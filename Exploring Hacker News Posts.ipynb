{
 "cells": [
  {
   "cell_type": "markdown",
   "metadata": {
    "collapsed": true
   },
   "source": [
    "# Exploring Hacker News Posts"
   ]
  },
  {
   "cell_type": "markdown",
   "metadata": {},
   "source": [
    "Darren Ho"
   ]
  },
  {
   "cell_type": "markdown",
   "metadata": {},
   "source": [
    "## Introduction\n",
    "\n",
    "In this project, we will work with a dataset of submissions to popular technology site [Hacker News](https://news.ycombinator.com/)\n",
    "\n",
    "Hacker News is a site started by the startup incubator [Y Combinator](https://www.ycombinator.com/), where user-submitted stories (known as \"posts\") receive votes and comments, similar to reddit. Hacker News is extremely popular in technology and startup circles, and posts that make it to the top of the Hacker News listings can get hundreds of thousands of visitors as a result.\n",
    "\n",
    "You can find the data set [here](https://www.kaggle.com/hacker-news/hacker-news-posts), but note that we have reduced from almost 300,000 rows to approximately 20,000 rows by removing all submissions that didn't receive any comments and then randomly sampling from the remaining submissions. Below are descriptions of the columns:\n",
    "- `id`: the unique identifier from Hacker News for the post    \n",
    "- `title`: the title of the post\n",
    "- `url`: the URL that the posts links to, if the post has a URL\n",
    "- `num_points`: the number of points the post acquired, calculated as the total number of upvotes                     minus the total number of downvotes\n",
    "- `num_comments`: the number of comments on the post\n",
    "- `author`: the username of the person who submitted the post\n",
    "- `created_at`: the date and time of the post's submission"
   ]
  },
  {
   "cell_type": "markdown",
   "metadata": {},
   "source": [
    "Here are the first five rows of the dataset:"
   ]
  },
  {
   "cell_type": "code",
   "execution_count": 4,
   "metadata": {
    "scrolled": true
   },
   "outputs": [
    {
     "name": "stdout",
     "output_type": "stream",
     "text": [
      "['id', 'title', 'url', 'num_points', 'num_comments', 'author', 'created_at']\n",
      "\n",
      "\n",
      "['12224879', 'Interactive Dynamic Video', 'http://www.interactivedynamicvideo.com/', '386', '52', 'ne0phyte', '8/4/2016 11:52']\n",
      "\n",
      "\n",
      "['10975351', 'How to Use Open Source and Shut the Fuck Up at the Same Time', 'http://hueniverse.com/2016/01/26/how-to-use-open-source-and-shut-the-fuck-up-at-the-same-time/', '39', '10', 'josep2', '1/26/2016 19:30']\n",
      "\n",
      "\n",
      "['11964716', \"Florida DJs May Face Felony for April Fools' Water Joke\", 'http://www.thewire.com/entertainment/2013/04/florida-djs-april-fools-water-joke/63798/', '2', '1', 'vezycash', '6/23/2016 22:20']\n",
      "\n",
      "\n",
      "['11919867', 'Technology ventures: From Idea to Enterprise', 'https://www.amazon.com/Technology-Ventures-Enterprise-Thomas-Byers/dp/0073523429', '3', '1', 'hswarna', '6/17/2016 0:01']\n",
      "\n",
      "\n"
     ]
    }
   ],
   "source": [
    "from csv import reader\n",
    "\n",
    "open_file = open('hacker_news.csv')\n",
    "read_file = reader(open_file)\n",
    "hn = list(read_file)\n",
    "\n",
    "for row in hn[:5]:\n",
    "    print(row)\n",
    "    print('\\n')"
   ]
  },
  {
   "cell_type": "markdown",
   "metadata": {},
   "source": [
    "For this project, we are interested in posts with titles that begin with either `Ask HN` or `Show HN`. Users submit `Ask HN` posts to ask the Hacker News community a specific question. Likewise, users submit `Show HN` posts to show the Hacker News community a project, product, or just something interesting. \n",
    "\n",
    "We will compare the two types of posts to deteremine the following:\n",
    "- On average, do `Ask HN` or `Show HN` posts receive more comments?\n",
    "- On average, do posts created at a certain time receive more comments?"
   ]
  },
  {
   "cell_type": "markdown",
   "metadata": {},
   "source": [
    "## Removing Headers from a List of Lists"
   ]
  },
  {
   "cell_type": "markdown",
   "metadata": {},
   "source": [
    "In the previous section, we read our data into a list of lists called `hn`. Notice that the first list in the inner lists contains the column headers, and the lists after contain the data for one row. In order to analyze the data, we need to first remove the row containing the column headers."
   ]
  },
  {
   "cell_type": "code",
   "execution_count": 5,
   "metadata": {},
   "outputs": [
    {
     "name": "stdout",
     "output_type": "stream",
     "text": [
      "['id', 'title', 'url', 'num_points', 'num_comments', 'author', 'created_at']\n",
      "\n",
      "\n",
      "['12224879', 'Interactive Dynamic Video', 'http://www.interactivedynamicvideo.com/', '386', '52', 'ne0phyte', '8/4/2016 11:52']\n",
      "\n",
      "\n",
      "['10975351', 'How to Use Open Source and Shut the Fuck Up at the Same Time', 'http://hueniverse.com/2016/01/26/how-to-use-open-source-and-shut-the-fuck-up-at-the-same-time/', '39', '10', 'josep2', '1/26/2016 19:30']\n",
      "\n",
      "\n",
      "['11964716', \"Florida DJs May Face Felony for April Fools' Water Joke\", 'http://www.thewire.com/entertainment/2013/04/florida-djs-april-fools-water-joke/63798/', '2', '1', 'vezycash', '6/23/2016 22:20']\n",
      "\n",
      "\n",
      "['11919867', 'Technology ventures: From Idea to Enterprise', 'https://www.amazon.com/Technology-Ventures-Enterprise-Thomas-Byers/dp/0073523429', '3', '1', 'hswarna', '6/17/2016 0:01']\n",
      "\n",
      "\n",
      "['10301696', 'Note by Note: The Making of Steinway L1037 (2007)', 'http://www.nytimes.com/2007/11/07/movies/07stein.html?_r=0', '8', '2', 'walterbell', '9/30/2015 4:12']\n",
      "\n",
      "\n"
     ]
    }
   ],
   "source": [
    "hn_header = hn[0]   # Extracting first row of data \n",
    "hn = hn[1:]         # Removing first row from hn data set\n",
    "\n",
    "print(hn_header)    # displaying header columns\n",
    "print('\\n')         \n",
    "for row in hn[:5]:\n",
    "    print(row)\n",
    "    print('\\n')     # displaying first 5 rows of the data set minus header"
   ]
  },
  {
   "cell_type": "markdown",
   "metadata": {},
   "source": [
    "## Extracting Ask HN and Show HN Posts"
   ]
  },
  {
   "cell_type": "markdown",
   "metadata": {},
   "source": [
    "Now that we have removed the headers from `hn`, we are ready to filter our data. Since we are only concerned with post titles beginning with `Ask HN` or `Show HN`, we will create new lists of lists containing just the data for those specific titles. \n",
    "\n",
    "To do so, we will be using the string method `startswith`. Given a string object, say, `string1`, we can check if it starts with, say, `dq`, by inspecting the output of the object `string1.startswith('dq')`. If `string1` starts with `dq`, it will return `True`; otherwise, it will return `False`."
   ]
  },
  {
   "cell_type": "code",
   "execution_count": 18,
   "metadata": {},
   "outputs": [],
   "source": [
    "ask_posts = []                # Creating 3 empty lists\n",
    "show_posts = []\n",
    "other_posts = []\n",
    "\n",
    "for row in hn:                                  # Looping through each row in our hn data set\n",
    "    title = row[1]                              # Assigning the title in each row to a variable\n",
    "    title = title.lower()                       # controlling for case, so we use lower method\n",
    "    if title.startswith('ask hn') == True:    # if title starts with 'ask hn' then append\n",
    "        ask_posts.append(row)\n",
    "    elif title.startswith('show hn') == True: #if title starts with 'show hn' then append\n",
    "        show_posts.append(row)\n",
    "    else:\n",
    "        other_posts.append(row)                # else, then append"
   ]
  },
  {
   "cell_type": "code",
   "execution_count": 25,
   "metadata": {},
   "outputs": [
    {
     "name": "stdout",
     "output_type": "stream",
     "text": [
      "Total Ask Posts:  1744\n",
      "Total Show Posts:  1162\n",
      "Total Other Posts:  17194\n"
     ]
    }
   ],
   "source": [
    "print('Total Ask Posts: ', len(ask_posts)) \n",
    "print('Total Show Posts: ', len(show_posts)) \n",
    "print('Total Other Posts: ', str(len(other_posts))) "
   ]
  },
  {
   "cell_type": "markdown",
   "metadata": {},
   "source": [
    "Checking the number of posts in the 3 new lists, we see that there are 1,744 `Ask HN` posts, 1,162 `Show HN` posts, and 17,194 `Other` posts."
   ]
  },
  {
   "cell_type": "markdown",
   "metadata": {},
   "source": [
    "## Calculating the Average Number of Comments for Ask HN and Show HN Posts"
   ]
  },
  {
   "cell_type": "markdown",
   "metadata": {},
   "source": [
    "We can now use the lists that we have created to determine if ask posts or show posts receive more comments on average. Lets begin with calculating the average number of comments for `Ask HN` posts."
   ]
  },
  {
   "cell_type": "code",
   "execution_count": 32,
   "metadata": {},
   "outputs": [
    {
     "name": "stdout",
     "output_type": "stream",
     "text": [
      "Total Number of Ask Comments:  24483\n",
      "Average Number of Ask Comments:  14.038417431192661\n",
      "Rounded Average of Ask Comments: 14.04\n"
     ]
    }
   ],
   "source": [
    "# Ask HN Posts\n",
    "\n",
    "total_ask_comments = 0\n",
    "\n",
    "for row in ask_posts:\n",
    "    num_comments = int(row[4])\n",
    "    total_ask_comments += num_comments\n",
    "    \n",
    "avg_ask_comments = total_ask_comments / len(ask_posts)\n",
    "\n",
    "print(\"Total Number of Ask Comments: \", str(total_ask_comments))\n",
    "print(\"Average Number of Ask Comments: \", str(avg_ask_comments))\n",
    "print(\"Rounded Average of Ask Comments: {:.2f}\".format(avg_ask_comments))"
   ]
  },
  {
   "cell_type": "code",
   "execution_count": 33,
   "metadata": {},
   "outputs": [
    {
     "name": "stdout",
     "output_type": "stream",
     "text": [
      "Total Number of Show Comments:  11988\n",
      "Average Number of Show Comments:  10.31669535283993\n",
      "Rounded Average of Show Comments: 10.32\n"
     ]
    }
   ],
   "source": [
    "# Show HN Posts\n",
    "\n",
    "total_show_comments = 0\n",
    "\n",
    "for row in show_posts:\n",
    "    num_comments = int(row[4])\n",
    "    total_show_comments += num_comments\n",
    "    \n",
    "avg_show_comments = total_show_comments / len(show_posts)\n",
    "\n",
    "print(\"Total Number of Show Comments: \", str(total_show_comments))\n",
    "print(\"Average Number of Show Comments: \", str(avg_show_comments))\n",
    "print(\"Rounded Average of Show Comments: {:.2f}\".format(avg_show_comments))"
   ]
  },
  {
   "cell_type": "code",
   "execution_count": 34,
   "metadata": {},
   "outputs": [
    {
     "name": "stdout",
     "output_type": "stream",
     "text": [
      "Total Number of Other Comments:  462055\n",
      "Average Number of Other Comments:  26.8730371059672\n",
      "Rounded Average of Other Comments: 26.87\n"
     ]
    }
   ],
   "source": [
    "# Other Posts\n",
    "\n",
    "total_other_comments = 0\n",
    "\n",
    "for row in other_posts:\n",
    "    num_comments = int(row[4])\n",
    "    total_other_comments += num_comments\n",
    "    \n",
    "avg_other_comments = total_other_comments / len(other_posts)\n",
    "\n",
    "print(\"Total Number of Other Comments: \", str(total_other_comments))\n",
    "print(\"Average Number of Other Comments: \", str(avg_other_comments))\n",
    "print(\"Rounded Average of Other Comments: {:.2f}\".format(avg_other_comments))"
   ]
  },
  {
   "cell_type": "markdown",
   "metadata": {},
   "source": [
    "- `Ask HN` Average Comments = 14.04\n",
    "- `Show HN` Average Comments = 10.32\n",
    "- `Other` Average Comments = 26.87\n",
    "\n",
    "\n",
    "After calculating the average number of comments for the 3 created lists, we see that `Other` posts actually recieves more comments on average than that of `Ask HN` and `Show HN`. However, for the purpose of our analysis, we can conclude that `Ask HN` posts receives more comments on average than `Show HN` posts. "
   ]
  },
  {
   "cell_type": "markdown",
   "metadata": {},
   "source": [
    "## Finding the Number of Ask Posts and Comments by Hour Created"
   ]
  },
  {
   "cell_type": "markdown",
   "metadata": {},
   "source": [
    "Because we were able to conclude that `Ask HN` posts were more likely to receive comments, we will focus our remaining analysis just on these posts.\n",
    "\n",
    "We will now determine if ask posts created at a certain *time* are more likely to attract comments. We will use the [`datetime` module](https://docs.python.org/3/library/datetime.html) to work with the data in the `created_at` column. We will use the following steps to perform this analysis:\n",
    "\n",
    "1. Calculate the number of ask posts created in each hour of the day, along with the number of comments received\n",
    "2. Calculate the average number of comments ask posts receive by hour created"
   ]
  },
  {
   "cell_type": "code",
   "execution_count": 47,
   "metadata": {},
   "outputs": [
    {
     "name": "stdout",
     "output_type": "stream",
     "text": [
      "Numer of Ask Posts created during each hour of the day: {9: 45, 13: 85, 10: 59, 14: 107, 16: 108, 23: 68, 12: 73, 17: 100, 15: 116, 21: 109, 20: 80, 2: 58, 18: 109, 3: 54, 5: 46, 19: 110, 1: 60, 22: 71, 8: 48, 4: 47, 0: 55, 6: 44, 7: 34, 11: 58}\n",
      "\n",
      "\n",
      "Numer of comments Ask Posts created at each hour received: {9: 251, 13: 1253, 10: 793, 14: 1416, 16: 1814, 23: 543, 12: 687, 17: 1146, 15: 4477, 21: 1745, 20: 1722, 2: 1381, 18: 1439, 3: 421, 5: 464, 19: 1188, 1: 683, 22: 479, 8: 492, 4: 337, 0: 447, 6: 397, 7: 267, 11: 641}\n"
     ]
    }
   ],
   "source": [
    "import datetime as dt\n",
    "\n",
    "result_list = []\n",
    "\n",
    "for row in ask_posts:\n",
    "    result_list.append([row[6],int(row[4])])\n",
    "    \n",
    "counts_by_hour = {}\n",
    "comments_by_hour = {}\n",
    "\n",
    "for row in result_list:\n",
    "    date_str = row[0]\n",
    "    comment_num = row[1]\n",
    "    date_dt = dt.datetime.strptime(date_str, \"%m/%d/%Y %H:%M\")\n",
    "    hour_only = date_dt.hour\n",
    "    if hour_only not in counts_by_hour:\n",
    "        counts_by_hour[hour_only] = 1\n",
    "        comments_by_hour[hour_only] = comment_num\n",
    "    else:\n",
    "        counts_by_hour[hour_only] += 1\n",
    "        comments_by_hour[hour_only] += comment_num\n",
    "        \n",
    "print(\"Numer of Ask Posts created during each hour of the day:\", counts_by_hour) \n",
    "print(\"\\n\")\n",
    "print(\"Numer of comments Ask Posts created at each hour received:\", comments_by_hour)  "
   ]
  },
  {
   "cell_type": "markdown",
   "metadata": {},
   "source": [
    "## Calculating the Average Number of Comments for `Ask HN` Posts by Hour"
   ]
  },
  {
   "cell_type": "markdown",
   "metadata": {},
   "source": [
    "In the code above, we created two dictionaries:\n",
    "\n",
    "- `counts_by_hour`: contains the number of ask posts created during each hour of the day\n",
    "- `comments_by_hour`: contains the corresponding number of comments ask posts created at each hour received\n",
    "\n",
    "Next, we will use the two dictionaries to calculate the average number of comments for posts created during each hour of the day."
   ]
  },
  {
   "cell_type": "code",
   "execution_count": 53,
   "metadata": {},
   "outputs": [
    {
     "name": "stdout",
     "output_type": "stream",
     "text": [
      "[9, 5.5777777777777775]\n",
      "[13, 14.741176470588234]\n",
      "[10, 13.440677966101696]\n",
      "[14, 13.233644859813085]\n",
      "[16, 16.796296296296298]\n",
      "[23, 7.985294117647059]\n",
      "[12, 9.41095890410959]\n",
      "[17, 11.46]\n",
      "[15, 38.5948275862069]\n",
      "[21, 16.009174311926607]\n",
      "[20, 21.525]\n",
      "[2, 23.810344827586206]\n",
      "[18, 13.20183486238532]\n",
      "[3, 7.796296296296297]\n",
      "[5, 10.08695652173913]\n",
      "[19, 10.8]\n",
      "[1, 11.383333333333333]\n",
      "[22, 6.746478873239437]\n",
      "[8, 10.25]\n",
      "[4, 7.170212765957447]\n",
      "[0, 8.127272727272727]\n",
      "[6, 9.022727272727273]\n",
      "[7, 7.852941176470588]\n",
      "[11, 11.051724137931034]\n"
     ]
    }
   ],
   "source": [
    "avg_by_hour = []\n",
    "\n",
    "for i in counts_by_hour:\n",
    "    avg_com_per_post = comments_by_hour[i] / counts_by_hour[i]   # calc avg num of comments per post for posts created during each hour of the day\n",
    "    avg_by_hour.append([i, avg_com_per_post])           # appending the hour and the avg number of comments per post to list\n",
    "\n",
    "for row in avg_by_hour:\n",
    "    print(row)\n",
    "    "
   ]
  },
  {
   "cell_type": "markdown",
   "metadata": {},
   "source": [
    "## Sorting and Printing Values from a List of Lists"
   ]
  },
  {
   "cell_type": "markdown",
   "metadata": {},
   "source": [
    "We calculated the average number of comments for posts created during each hour of the day, and stored the results in a list of lists named `avg_by_hour`. Although we have the results we need, the format makes it difficult to identify the hours with the highest values. Let's finish by sorting the list of lists and printing the five highest values in a format that is easier to read!"
   ]
  },
  {
   "cell_type": "code",
   "execution_count": 56,
   "metadata": {},
   "outputs": [
    {
     "data": {
      "text/plain": [
       "[[5.5777777777777775, 9],\n",
       " [14.741176470588234, 13],\n",
       " [13.440677966101696, 10],\n",
       " [13.233644859813085, 14],\n",
       " [16.796296296296298, 16],\n",
       " [7.985294117647059, 23],\n",
       " [9.41095890410959, 12],\n",
       " [11.46, 17],\n",
       " [38.5948275862069, 15],\n",
       " [16.009174311926607, 21],\n",
       " [21.525, 20],\n",
       " [23.810344827586206, 2],\n",
       " [13.20183486238532, 18],\n",
       " [7.796296296296297, 3],\n",
       " [10.08695652173913, 5],\n",
       " [10.8, 19],\n",
       " [11.383333333333333, 1],\n",
       " [6.746478873239437, 22],\n",
       " [10.25, 8],\n",
       " [7.170212765957447, 4],\n",
       " [8.127272727272727, 0],\n",
       " [9.022727272727273, 6],\n",
       " [7.852941176470588, 7],\n",
       " [11.051724137931034, 11]]"
      ]
     },
     "execution_count": 56,
     "metadata": {},
     "output_type": "execute_result"
    }
   ],
   "source": [
    "swap_avg_by_hour = []    # equal list to avg_by_hour but with swapped columns\n",
    "\n",
    "for row in avg_by_hour:\n",
    "    swap_avg_by_hour.append([row[1], row[0]])\n",
    "    \n",
    "swap_avg_by_hour"
   ]
  },
  {
   "cell_type": "code",
   "execution_count": 60,
   "metadata": {},
   "outputs": [
    {
     "name": "stdout",
     "output_type": "stream",
     "text": [
      "Top 5 Hours for Ask Posts Comments\n",
      "15:00: 38.59 average comments per post\n",
      "02:00: 23.81 average comments per post\n",
      "20:00: 21.52 average comments per post\n",
      "16:00: 16.80 average comments per post\n",
      "21:00: 16.01 average comments per post\n"
     ]
    }
   ],
   "source": [
    "sorted_swap = sorted(swap_avg_by_hour, reverse = True)\n",
    "\n",
    "print(\"Top 5 Hours for Ask Posts Comments\")\n",
    "\n",
    "for row in sorted_swap[:5]:\n",
    "    hour_form = dt.datetime.strptime(str(row[1]), '%H')\n",
    "    hour_form = hour_form.strftime(\"%H:%M\")\n",
    "    print(\"{}: {:.2f} average comments per post\".format(hour_form, row[0]))\n"
   ]
  },
  {
   "cell_type": "markdown",
   "metadata": {},
   "source": [
    "## Conclusion"
   ]
  },
  {
   "cell_type": "markdown",
   "metadata": {},
   "source": [
    "Through our analysis, we are now able to answer our two questions that we sought after:\n",
    "\n",
    "- On average, do `Ask HN` or `Show HN` posts receive more comments?\n",
    "- On average, do posts created at a certain time receive more comments?\n",
    "\n",
    "We are able to conclude that, on average, `Ask HN` posts receive more comments. And now, with our latest findings above, we are able to conclude that posts created a certain time receive more comments. \n",
    "\n",
    "The Top 5 Hours for Ask Posts Comments (Eastern Time):\n",
    "\n",
    "- **3:00 PM**: 38.59 average comments per post\n",
    "- **2:00 AM**: 23.81 average comments per post\n",
    "- **8:00 PM**: 21.52 average comments per post\n",
    "- **4:00 PM**: 16.80 average comments per post\n",
    "- **9:00 PM**: 16.01 average comments per post\n",
    "\n",
    "If you were to create a `Ask HN` post with the goal of having the highest chances of receiving comments, our analysis suggests that you post around 3:00 PM EST, as that is when you would expect to receive the most comments at 38.59 per post. "
   ]
  },
  {
   "cell_type": "markdown",
   "metadata": {},
   "source": [
    "## Next Steps"
   ]
  },
  {
   "cell_type": "markdown",
   "metadata": {},
   "source": [
    "Possible next steps that I can further dig into:\n",
    "\n",
    "- Determine if show or ask posts receive more points on average\n",
    "\n",
    "- Determine if posts created at a certain time are more likely to receive more points\n",
    "\n",
    "- Compare your results to the average number of comments and points other posts receive\n"
   ]
  }
 ],
 "metadata": {
  "kernelspec": {
   "display_name": "Python 3",
   "language": "python",
   "name": "python3"
  },
  "language_info": {
   "codemirror_mode": {
    "name": "ipython",
    "version": 3
   },
   "file_extension": ".py",
   "mimetype": "text/x-python",
   "name": "python",
   "nbconvert_exporter": "python",
   "pygments_lexer": "ipython3",
   "version": "3.8.2"
  }
 },
 "nbformat": 4,
 "nbformat_minor": 2
}
