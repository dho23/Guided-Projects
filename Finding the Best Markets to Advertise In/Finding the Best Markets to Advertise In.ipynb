{
 "cells": [
  {
   "cell_type": "markdown",
   "metadata": {},
   "source": [
    "# Finding the Best Markets to Advertise In\n",
    "\n",
    "#### Darren Ho"
   ]
  },
  {
   "cell_type": "markdown",
   "metadata": {},
   "source": [
    "Let's assume that we're working for an e-learning company that offers courses on programming. Most of our courses are on web and mobile development, but we also cover many other domains, like data science, game development, etc. We want to promote our product and we'd like to invest some money in advertisement. Our goal in this project is to find out the two best markets to advertise our product in. "
   ]
  },
  {
   "cell_type": "markdown",
   "metadata": {},
   "source": [
    "## Understanding the Data"
   ]
  },
  {
   "cell_type": "markdown",
   "metadata": {},
   "source": [
    "To save money, we can try to search existing data that might be relevant for our purpose, rather than organizing surveys for a couple of different markets to find out which is the best choice for advertising.\n",
    "\n",
    "One good candidate is the data from [freeCodeCamp's 2017 New Coder Survey](https://www.freecodecamp.org/news/we-asked-20-000-people-who-they-are-and-how-theyre-learning-to-code-fff5d668969). [freeCodeCamp](https://www.freecodecamp.org/) is a free e-learning platform that offers courses on web development. They also run a popular [Medium publication](https://www.freecodecamp.org/news/), which attracted new coders with varying interests, and is ideal for the purpose of our analysis. \n",
    "\n",
    "Data is publicly available [here](https://github.com/freeCodeCamp/2017-new-coder-survey)"
   ]
  },
  {
   "cell_type": "code",
   "execution_count": 1,
   "metadata": {
    "collapsed": false
   },
   "outputs": [
    {
     "data": {
      "text/plain": [
       "(18175, 136)"
      ]
     },
     "execution_count": 1,
     "metadata": {},
     "output_type": "execute_result"
    }
   ],
   "source": [
    "%matplotlib inline\n",
    "import pandas as pd\n",
    "import matplotlib.pyplot as plt\n",
    "import seaborn as sns\n",
    "\n",
    "new_coder = pd.read_csv('2017-fCC-New-Coders-Survey-Data.csv', low_memory=0)  # low_memory = False to silence dtypes warning\n",
    "new_coder.shape"
   ]
  },
  {
   "cell_type": "code",
   "execution_count": 2,
   "metadata": {
    "collapsed": false
   },
   "outputs": [
    {
     "data": {
      "text/html": [
       "<div>\n",
       "<style scoped>\n",
       "    .dataframe tbody tr th:only-of-type {\n",
       "        vertical-align: middle;\n",
       "    }\n",
       "\n",
       "    .dataframe tbody tr th {\n",
       "        vertical-align: top;\n",
       "    }\n",
       "\n",
       "    .dataframe thead th {\n",
       "        text-align: right;\n",
       "    }\n",
       "</style>\n",
       "<table border=\"1\" class=\"dataframe\">\n",
       "  <thead>\n",
       "    <tr style=\"text-align: right;\">\n",
       "      <th></th>\n",
       "      <th>Age</th>\n",
       "      <th>AttendedBootcamp</th>\n",
       "      <th>BootcampFinish</th>\n",
       "      <th>BootcampLoanYesNo</th>\n",
       "      <th>BootcampName</th>\n",
       "      <th>BootcampRecommend</th>\n",
       "      <th>ChildrenNumber</th>\n",
       "      <th>CityPopulation</th>\n",
       "      <th>CodeEventConferences</th>\n",
       "      <th>CodeEventDjangoGirls</th>\n",
       "      <th>...</th>\n",
       "      <th>YouTubeFCC</th>\n",
       "      <th>YouTubeFunFunFunction</th>\n",
       "      <th>YouTubeGoogleDev</th>\n",
       "      <th>YouTubeLearnCode</th>\n",
       "      <th>YouTubeLevelUpTuts</th>\n",
       "      <th>YouTubeMIT</th>\n",
       "      <th>YouTubeMozillaHacks</th>\n",
       "      <th>YouTubeOther</th>\n",
       "      <th>YouTubeSimplilearn</th>\n",
       "      <th>YouTubeTheNewBoston</th>\n",
       "    </tr>\n",
       "  </thead>\n",
       "  <tbody>\n",
       "    <tr>\n",
       "      <th>0</th>\n",
       "      <td>27.0</td>\n",
       "      <td>0.0</td>\n",
       "      <td>NaN</td>\n",
       "      <td>NaN</td>\n",
       "      <td>NaN</td>\n",
       "      <td>NaN</td>\n",
       "      <td>NaN</td>\n",
       "      <td>more than 1 million</td>\n",
       "      <td>NaN</td>\n",
       "      <td>NaN</td>\n",
       "      <td>...</td>\n",
       "      <td>NaN</td>\n",
       "      <td>NaN</td>\n",
       "      <td>NaN</td>\n",
       "      <td>NaN</td>\n",
       "      <td>NaN</td>\n",
       "      <td>NaN</td>\n",
       "      <td>NaN</td>\n",
       "      <td>NaN</td>\n",
       "      <td>NaN</td>\n",
       "      <td>NaN</td>\n",
       "    </tr>\n",
       "    <tr>\n",
       "      <th>1</th>\n",
       "      <td>34.0</td>\n",
       "      <td>0.0</td>\n",
       "      <td>NaN</td>\n",
       "      <td>NaN</td>\n",
       "      <td>NaN</td>\n",
       "      <td>NaN</td>\n",
       "      <td>NaN</td>\n",
       "      <td>less than 100,000</td>\n",
       "      <td>NaN</td>\n",
       "      <td>NaN</td>\n",
       "      <td>...</td>\n",
       "      <td>1.0</td>\n",
       "      <td>NaN</td>\n",
       "      <td>NaN</td>\n",
       "      <td>NaN</td>\n",
       "      <td>NaN</td>\n",
       "      <td>NaN</td>\n",
       "      <td>NaN</td>\n",
       "      <td>NaN</td>\n",
       "      <td>NaN</td>\n",
       "      <td>NaN</td>\n",
       "    </tr>\n",
       "    <tr>\n",
       "      <th>2</th>\n",
       "      <td>21.0</td>\n",
       "      <td>0.0</td>\n",
       "      <td>NaN</td>\n",
       "      <td>NaN</td>\n",
       "      <td>NaN</td>\n",
       "      <td>NaN</td>\n",
       "      <td>NaN</td>\n",
       "      <td>more than 1 million</td>\n",
       "      <td>NaN</td>\n",
       "      <td>NaN</td>\n",
       "      <td>...</td>\n",
       "      <td>NaN</td>\n",
       "      <td>NaN</td>\n",
       "      <td>NaN</td>\n",
       "      <td>1.0</td>\n",
       "      <td>1.0</td>\n",
       "      <td>NaN</td>\n",
       "      <td>NaN</td>\n",
       "      <td>NaN</td>\n",
       "      <td>NaN</td>\n",
       "      <td>NaN</td>\n",
       "    </tr>\n",
       "    <tr>\n",
       "      <th>3</th>\n",
       "      <td>26.0</td>\n",
       "      <td>0.0</td>\n",
       "      <td>NaN</td>\n",
       "      <td>NaN</td>\n",
       "      <td>NaN</td>\n",
       "      <td>NaN</td>\n",
       "      <td>NaN</td>\n",
       "      <td>between 100,000 and 1 million</td>\n",
       "      <td>NaN</td>\n",
       "      <td>NaN</td>\n",
       "      <td>...</td>\n",
       "      <td>1.0</td>\n",
       "      <td>1.0</td>\n",
       "      <td>NaN</td>\n",
       "      <td>NaN</td>\n",
       "      <td>1.0</td>\n",
       "      <td>NaN</td>\n",
       "      <td>NaN</td>\n",
       "      <td>NaN</td>\n",
       "      <td>NaN</td>\n",
       "      <td>NaN</td>\n",
       "    </tr>\n",
       "    <tr>\n",
       "      <th>4</th>\n",
       "      <td>20.0</td>\n",
       "      <td>0.0</td>\n",
       "      <td>NaN</td>\n",
       "      <td>NaN</td>\n",
       "      <td>NaN</td>\n",
       "      <td>NaN</td>\n",
       "      <td>NaN</td>\n",
       "      <td>between 100,000 and 1 million</td>\n",
       "      <td>NaN</td>\n",
       "      <td>NaN</td>\n",
       "      <td>...</td>\n",
       "      <td>NaN</td>\n",
       "      <td>NaN</td>\n",
       "      <td>NaN</td>\n",
       "      <td>NaN</td>\n",
       "      <td>NaN</td>\n",
       "      <td>NaN</td>\n",
       "      <td>NaN</td>\n",
       "      <td>NaN</td>\n",
       "      <td>NaN</td>\n",
       "      <td>NaN</td>\n",
       "    </tr>\n",
       "  </tbody>\n",
       "</table>\n",
       "<p>5 rows × 136 columns</p>\n",
       "</div>"
      ],
      "text/plain": [
       "    Age  AttendedBootcamp  BootcampFinish  BootcampLoanYesNo BootcampName  \\\n",
       "0  27.0               0.0             NaN                NaN          NaN   \n",
       "1  34.0               0.0             NaN                NaN          NaN   \n",
       "2  21.0               0.0             NaN                NaN          NaN   \n",
       "3  26.0               0.0             NaN                NaN          NaN   \n",
       "4  20.0               0.0             NaN                NaN          NaN   \n",
       "\n",
       "   BootcampRecommend  ChildrenNumber                 CityPopulation  \\\n",
       "0                NaN             NaN            more than 1 million   \n",
       "1                NaN             NaN              less than 100,000   \n",
       "2                NaN             NaN            more than 1 million   \n",
       "3                NaN             NaN  between 100,000 and 1 million   \n",
       "4                NaN             NaN  between 100,000 and 1 million   \n",
       "\n",
       "   CodeEventConferences  CodeEventDjangoGirls         ...           \\\n",
       "0                   NaN                   NaN         ...            \n",
       "1                   NaN                   NaN         ...            \n",
       "2                   NaN                   NaN         ...            \n",
       "3                   NaN                   NaN         ...            \n",
       "4                   NaN                   NaN         ...            \n",
       "\n",
       "   YouTubeFCC  YouTubeFunFunFunction  YouTubeGoogleDev  YouTubeLearnCode  \\\n",
       "0         NaN                    NaN               NaN               NaN   \n",
       "1         1.0                    NaN               NaN               NaN   \n",
       "2         NaN                    NaN               NaN               1.0   \n",
       "3         1.0                    1.0               NaN               NaN   \n",
       "4         NaN                    NaN               NaN               NaN   \n",
       "\n",
       "   YouTubeLevelUpTuts  YouTubeMIT  YouTubeMozillaHacks YouTubeOther  \\\n",
       "0                 NaN         NaN                  NaN          NaN   \n",
       "1                 NaN         NaN                  NaN          NaN   \n",
       "2                 1.0         NaN                  NaN          NaN   \n",
       "3                 1.0         NaN                  NaN          NaN   \n",
       "4                 NaN         NaN                  NaN          NaN   \n",
       "\n",
       "   YouTubeSimplilearn  YouTubeTheNewBoston  \n",
       "0                 NaN                  NaN  \n",
       "1                 NaN                  NaN  \n",
       "2                 NaN                  NaN  \n",
       "3                 NaN                  NaN  \n",
       "4                 NaN                  NaN  \n",
       "\n",
       "[5 rows x 136 columns]"
      ]
     },
     "execution_count": 2,
     "metadata": {},
     "output_type": "execute_result"
    }
   ],
   "source": [
    "new_coder.head()"
   ]
  },
  {
   "cell_type": "markdown",
   "metadata": {},
   "source": [
    "Running `.shape`, we see that the dataset has 18175 rows and 136 columns. We also ran `.head` to get a look at the first five rows of the dataset. "
   ]
  },
  {
   "cell_type": "markdown",
   "metadata": {},
   "source": [
    "## Checking for Sample Representativity"
   ]
  },
  {
   "cell_type": "markdown",
   "metadata": {},
   "source": [
    "Most of the courses we offer are on web and mobile development, but we also cover many other domains. For the purpose of the analysis, we want to answer questions about a *population* of new coders that are interested in the subjects we teach. We would like to know:\n",
    "\n",
    "- Where are these new coders located\n",
    "- What are the locations with the greatest number of new coders\n",
    "- How much money new coders are willing to spend on learning\n",
    "\n",
    "However, before we start analyzing the sample data we have, we need to clarify that it is representative for our population of interest and that it has the right categories of people for our purpose. "
   ]
  },
  {
   "cell_type": "code",
   "execution_count": 3,
   "metadata": {
    "collapsed": false
   },
   "outputs": [
    {
     "data": {
      "text/plain": [
       "Full-Stack Web Developer                                                                                                                                                                                                                                                    11.770595\n",
       "  Front-End Web Developer                                                                                                                                                                                                                                                    6.435927\n",
       "  Data Scientist                                                                                                                                                                                                                                                             2.173913\n",
       "Back-End Web Developer                                                                                                                                                                                                                                                       2.030892\n",
       "  Mobile Developer                                                                                                                                                                                                                                                           1.673341\n",
       "Game Developer                                                                                                                                                                                                                                                               1.630435\n",
       "Information Security                                                                                                                                                                                                                                                         1.315789\n",
       "Full-Stack Web Developer,   Front-End Web Developer                                                                                                                                                                                                                          0.915332\n",
       "  Front-End Web Developer, Full-Stack Web Developer                                                                                                                                                                                                                          0.800915\n",
       "  Product Manager                                                                                                                                                                                                                                                            0.786613\n",
       "Data Engineer                                                                                                                                                                                                                                                                0.758009\n",
       "  User Experience Designer                                                                                                                                                                                                                                                   0.743707\n",
       "  User Experience Designer,   Front-End Web Developer                                                                                                                                                                                                                        0.614989\n",
       "  Front-End Web Developer, Back-End Web Developer, Full-Stack Web Developer                                                                                                                                                                                                  0.557780\n",
       "Back-End Web Developer,   Front-End Web Developer, Full-Stack Web Developer                                                                                                                                                                                                  0.514874\n",
       "Back-End Web Developer, Full-Stack Web Developer,   Front-End Web Developer                                                                                                                                                                                                  0.514874\n",
       "  DevOps / SysAdmin                                                                                                                                                                                                                                                          0.514874\n",
       "Full-Stack Web Developer,   Front-End Web Developer, Back-End Web Developer                                                                                                                                                                                                  0.443364\n",
       "  Front-End Web Developer, Full-Stack Web Developer, Back-End Web Developer                                                                                                                                                                                                  0.429062\n",
       "  Front-End Web Developer,   User Experience Designer                                                                                                                                                                                                                        0.414760\n",
       "Full-Stack Web Developer,   Mobile Developer                                                                                                                                                                                                                                 0.414760\n",
       "Back-End Web Developer, Full-Stack Web Developer                                                                                                                                                                                                                             0.386156\n",
       "Full-Stack Web Developer, Back-End Web Developer                                                                                                                                                                                                                             0.371854\n",
       "Back-End Web Developer,   Front-End Web Developer                                                                                                                                                                                                                            0.286041\n",
       "Full-Stack Web Developer, Back-End Web Developer,   Front-End Web Developer                                                                                                                                                                                                  0.271739\n",
       "Data Engineer,   Data Scientist                                                                                                                                                                                                                                              0.271739\n",
       "  Front-End Web Developer,   Mobile Developer                                                                                                                                                                                                                                0.257437\n",
       "Full-Stack Web Developer,   Data Scientist                                                                                                                                                                                                                                   0.243135\n",
       "  Mobile Developer, Game Developer                                                                                                                                                                                                                                           0.228833\n",
       "  Data Scientist, Data Engineer                                                                                                                                                                                                                                              0.228833\n",
       "                                                                                                                                                                                                                                                                              ...    \n",
       "Back-End Web Developer,   Front-End Web Developer, Full-Stack Web Developer,   Quality Assurance Engineer, Data Engineer,   Mobile Developer                                                                                                                                 0.014302\n",
       "  Product Manager, Game Developer, Data Engineer,   User Experience Designer, Full-Stack Web Developer,   Data Scientist                                                                                                                                                     0.014302\n",
       "  Front-End Web Developer, Back-End Web Developer, Full-Stack Web Developer, Information Security                                                                                                                                                                            0.014302\n",
       "  Product Manager,   Front-End Web Developer, Full-Stack Web Developer,   User Experience Designer,   Quality Assurance Engineer                                                                                                                                             0.014302\n",
       "  Product Manager, Back-End Web Developer, Game Developer, Full-Stack Web Developer                                                                                                                                                                                          0.014302\n",
       "Full-Stack Web Developer,   Front-End Web Developer,   DevOps / SysAdmin, Data Engineer, Back-End Web Developer,   Quality Assurance Engineer                                                                                                                                0.014302\n",
       "  Data Scientist, Information Security, Back-End Web Developer, Game Developer                                                                                                                                                                                               0.014302\n",
       "Back-End Web Developer,   Data Scientist, Full-Stack Web Developer,   Mobile Developer,   Front-End Web Developer,   Product Manager                                                                                                                                         0.014302\n",
       "Full-Stack Web Developer,   Mobile Developer,   DevOps / SysAdmin,   Data Scientist, Back-End Web Developer                                                                                                                                                                  0.014302\n",
       "  DevOps / SysAdmin,   Mobile Developer,   Quality Assurance Engineer,   Front-End Web Developer                                                                                                                                                                             0.014302\n",
       "  Front-End Web Developer,   User Experience Designer, Full-Stack Web Developer, Back-End Web Developer,   Data Scientist, Data Engineer                                                                                                                                     0.014302\n",
       "Information Security, Full-Stack Web Developer,   Mobile Developer,   Data Scientist,   Product Manager, Back-End Web Developer,   Front-End Web Developer                                                                                                                   0.014302\n",
       "  Data Scientist,   User Experience Designer,   Front-End Web Developer, Back-End Web Developer, Full-Stack Web Developer                                                                                                                                                    0.014302\n",
       "  Data Scientist, Full-Stack Web Developer,   Product Manager                                                                                                                                                                                                                0.014302\n",
       "Information Security,   Front-End Web Developer,   DevOps / SysAdmin, Back-End Web Developer,   User Experience Designer,   Mobile Developer, Full-Stack Web Developer                                                                                                       0.014302\n",
       "  User Experience Designer, Full-Stack Web Developer, Game Developer,   Front-End Web Developer                                                                                                                                                                              0.014302\n",
       "Data Engineer, Full-Stack Web Developer,   Mobile Developer                                                                                                                                                                                                                  0.014302\n",
       "  Front-End Web Developer,   User Experience Designer,   DevOps / SysAdmin, Back-End Web Developer,   Data Scientist, Game Developer,   Product Manager,   Quality Assurance Engineer, Full-Stack Web Developer, Information Security,   Mobile Developer                    0.014302\n",
       "Game Developer,   Data Scientist, Full-Stack Web Developer,   DevOps / SysAdmin,   Product Manager, Information Security,   Quality Assurance Engineer,   Front-End Web Developer, Data Engineer,   Mobile Developer,   User Experience Designer, Back-End Web Developer     0.014302\n",
       "Full-Stack Web Developer,   Mobile Developer, Game Developer,   Front-End Web Developer,   Product Manager                                                                                                                                                                   0.014302\n",
       "Back-End Web Developer,   Data Scientist,   Mobile Developer                                                                                                                                                                                                                 0.014302\n",
       "Full-Stack Web Developer,   Data Scientist, Data Engineer,   User Experience Designer,   Product Manager                                                                                                                                                                     0.014302\n",
       "Back-End Web Developer, Information Security,   Front-End Web Developer, Full-Stack Web Developer,   Data Scientist                                                                                                                                                          0.014302\n",
       "  Product Manager, Back-End Web Developer, Full-Stack Web Developer,   Mobile Developer,   Front-End Web Developer                                                                                                                                                           0.014302\n",
       "Full-Stack Web Developer,   Mobile Developer,   Front-End Web Developer, Game Developer                                                                                                                                                                                      0.014302\n",
       "Game Developer,   Mobile Developer,   Front-End Web Developer, Back-End Web Developer                                                                                                                                                                                        0.014302\n",
       "  Front-End Web Developer,   DevOps / SysAdmin, Information Security, Game Developer, Back-End Web Developer, Full-Stack Web Developer,   Mobile Developer                                                                                                                   0.014302\n",
       "  Mobile Developer,   Data Scientist, Back-End Web Developer,   User Experience Designer,   Front-End Web Developer,   DevOps / SysAdmin, Information Security, Full-Stack Web Developer                                                                                     0.014302\n",
       "Full-Stack Web Developer,   Front-End Web Developer, Back-End Web Developer, Data Engineer                                                                                                                                                                                   0.014302\n",
       "  Front-End Web Developer,   Data Scientist, Full-Stack Web Developer,   User Experience Designer                                                                                                                                                                            0.014302\n",
       "Name: JobRoleInterest, Length: 3213, dtype: float64"
      ]
     },
     "execution_count": 3,
     "metadata": {},
     "output_type": "execute_result"
    }
   ],
   "source": [
    "# freq dist table - percentage over abs freq\n",
    "\n",
    "new_coder['JobRoleInterest'].value_counts(normalize=True)*100"
   ]
  },
  {
   "cell_type": "markdown",
   "metadata": {},
   "source": [
    "The most popular role that the sample is interested in working in is `Full-Stack Web Developer` at approximately 12%, followed by `Front-End Web Developer` and `Data Scientist` at 6.4% and 2.2% respectively. Looking closer, a lot of people are interested in more than one subject. We also see that more people are interested in web development compared to mobile development.     "
   ]
  },
  {
   "cell_type": "code",
   "execution_count": 4,
   "metadata": {
    "collapsed": false
   },
   "outputs": [
    {
     "data": {
      "text/plain": [
       "1     31.650458\n",
       "2     10.883867\n",
       "3     15.889588\n",
       "4     15.217391\n",
       "5     12.042334\n",
       "6      6.721968\n",
       "7      3.861556\n",
       "8      1.759153\n",
       "9      0.986842\n",
       "10     0.471968\n",
       "11     0.185927\n",
       "12     0.300343\n",
       "13     0.028604\n",
       "Name: JobRoleInterest, dtype: float64"
      ]
     },
     "execution_count": 4,
     "metadata": {},
     "output_type": "execute_result"
    }
   ],
   "source": [
    "# Split each string in the 'JobRoleInterest' column\n",
    "jri_no_nulls = new_coder['JobRoleInterest'].dropna()\n",
    "jri_split = jri_no_nulls.str.split(',')\n",
    "\n",
    "# Frequency table for the var describing the number of options\n",
    "n_of_options = jri_split.apply(lambda x: len(x)) # x is a list of job options\n",
    "n_of_options.value_counts(normalize = True).sort_index() * 100"
   ]
  },
  {
   "cell_type": "markdown",
   "metadata": {},
   "source": [
    "Looking at the frequency table above, we see that approximately 32% of the sample know clearly what role/job that they would be interested working in. Approximately 16% of the sample listed 3 roles/job that they were interested in, followed by 15% who have listed 4 roles/job.   "
   ]
  },
  {
   "cell_type": "code",
   "execution_count": 5,
   "metadata": {
    "collapsed": false
   },
   "outputs": [
    {
     "name": "stdout",
     "output_type": "stream",
     "text": [
      "True     86.241419\n",
      "False    13.758581\n",
      "Name: JobRoleInterest, dtype: float64\n"
     ]
    },
    {
     "data": {
      "image/png": "[encoded data removed]",
      "text/plain": [
       "<matplotlib.figure.Figure at 0x7ff289807f28>"
      ]
     },
     "metadata": {},
     "output_type": "display_data"
    }
   ],
   "source": [
    "# Frequency table\n",
    "web_mobile = jri_no_nulls.str.contains(\n",
    "    'Web Developer|Mobile Developer') # returns an array of booleans\n",
    "freq_table = web_mobile.value_counts(normalize = True) * 100\n",
    "print(freq_table)\n",
    "\n",
    "# Graph for the frequency table above\n",
    "plt.style.use('fivethirtyeight')\n",
    "freq_table.plot.bar()\n",
    "plt.title('Interest in \\nWeb or Mobile Development',\n",
    "          y = 1.08) # y pads the title upward\n",
    "plt.ylabel('Percentage', fontsize = 12)\n",
    "plt.xticks([0,1],['Web or Mobile\\nDevelopment', 'Other'],\n",
    "           rotation = 0) # the initial xtick labels were True and False\n",
    "plt.ylim([0,100])\n",
    "plt.show()"
   ]
  },
  {
   "cell_type": "markdown",
   "metadata": {},
   "source": [
    "86% of the sample is interested in web or mobile devlopment, whereas the remaining 14% is interesting in other roles/jobs that we have labeled `Other`. We can better visualize the drastic difference in the bar plot above. With that being said, we can conclude that the sample is a good representation of our population of interest."
   ]
  },
  {
   "cell_type": "markdown",
   "metadata": {},
   "source": [
    "## New Coders - Location and Densities"
   ]
  },
  {
   "cell_type": "markdown",
   "metadata": {},
   "source": [
    "We can start finding out where these new coders are located, and what are the densities for each location. We'll work with the `CountryLive` variable because we're interested where people actually live at the moment when we run the ads. In other words, we're interested in where people are located, not where they were born.  "
   ]
  },
  {
   "cell_type": "code",
   "execution_count": 6,
   "metadata": {
    "collapsed": false
   },
   "outputs": [
    {
     "data": {
      "text/html": [
       "<div>\n",
       "<style scoped>\n",
       "    .dataframe tbody tr th:only-of-type {\n",
       "        vertical-align: middle;\n",
       "    }\n",
       "\n",
       "    .dataframe tbody tr th {\n",
       "        vertical-align: top;\n",
       "    }\n",
       "\n",
       "    .dataframe thead th {\n",
       "        text-align: right;\n",
       "    }\n",
       "</style>\n",
       "<table border=\"1\" class=\"dataframe\">\n",
       "  <thead>\n",
       "    <tr style=\"text-align: right;\">\n",
       "      <th></th>\n",
       "      <th>Absolute frequency</th>\n",
       "      <th>Relative Freq(%)</th>\n",
       "    </tr>\n",
       "  </thead>\n",
       "  <tbody>\n",
       "    <tr>\n",
       "      <th>United States of America</th>\n",
       "      <td>3125</td>\n",
       "      <td>45.700</td>\n",
       "    </tr>\n",
       "    <tr>\n",
       "      <th>India</th>\n",
       "      <td>528</td>\n",
       "      <td>7.722</td>\n",
       "    </tr>\n",
       "    <tr>\n",
       "      <th>United Kingdom</th>\n",
       "      <td>315</td>\n",
       "      <td>4.607</td>\n",
       "    </tr>\n",
       "    <tr>\n",
       "      <th>Canada</th>\n",
       "      <td>260</td>\n",
       "      <td>3.802</td>\n",
       "    </tr>\n",
       "    <tr>\n",
       "      <th>Poland</th>\n",
       "      <td>131</td>\n",
       "      <td>1.916</td>\n",
       "    </tr>\n",
       "    <tr>\n",
       "      <th>Brazil</th>\n",
       "      <td>129</td>\n",
       "      <td>1.887</td>\n",
       "    </tr>\n",
       "    <tr>\n",
       "      <th>Germany</th>\n",
       "      <td>125</td>\n",
       "      <td>1.828</td>\n",
       "    </tr>\n",
       "    <tr>\n",
       "      <th>Australia</th>\n",
       "      <td>112</td>\n",
       "      <td>1.638</td>\n",
       "    </tr>\n",
       "    <tr>\n",
       "      <th>Russia</th>\n",
       "      <td>102</td>\n",
       "      <td>1.492</td>\n",
       "    </tr>\n",
       "    <tr>\n",
       "      <th>Ukraine</th>\n",
       "      <td>89</td>\n",
       "      <td>1.302</td>\n",
       "    </tr>\n",
       "    <tr>\n",
       "      <th>Nigeria</th>\n",
       "      <td>84</td>\n",
       "      <td>1.228</td>\n",
       "    </tr>\n",
       "    <tr>\n",
       "      <th>Spain</th>\n",
       "      <td>77</td>\n",
       "      <td>1.126</td>\n",
       "    </tr>\n",
       "    <tr>\n",
       "      <th>France</th>\n",
       "      <td>75</td>\n",
       "      <td>1.097</td>\n",
       "    </tr>\n",
       "    <tr>\n",
       "      <th>Romania</th>\n",
       "      <td>71</td>\n",
       "      <td>1.038</td>\n",
       "    </tr>\n",
       "    <tr>\n",
       "      <th>Netherlands (Holland, Europe)</th>\n",
       "      <td>65</td>\n",
       "      <td>0.951</td>\n",
       "    </tr>\n",
       "    <tr>\n",
       "      <th>Italy</th>\n",
       "      <td>62</td>\n",
       "      <td>0.907</td>\n",
       "    </tr>\n",
       "    <tr>\n",
       "      <th>Philippines</th>\n",
       "      <td>52</td>\n",
       "      <td>0.760</td>\n",
       "    </tr>\n",
       "    <tr>\n",
       "      <th>Serbia</th>\n",
       "      <td>52</td>\n",
       "      <td>0.760</td>\n",
       "    </tr>\n",
       "    <tr>\n",
       "      <th>Greece</th>\n",
       "      <td>46</td>\n",
       "      <td>0.673</td>\n",
       "    </tr>\n",
       "    <tr>\n",
       "      <th>Ireland</th>\n",
       "      <td>43</td>\n",
       "      <td>0.629</td>\n",
       "    </tr>\n",
       "    <tr>\n",
       "      <th>South Africa</th>\n",
       "      <td>39</td>\n",
       "      <td>0.570</td>\n",
       "    </tr>\n",
       "    <tr>\n",
       "      <th>Mexico</th>\n",
       "      <td>37</td>\n",
       "      <td>0.541</td>\n",
       "    </tr>\n",
       "    <tr>\n",
       "      <th>Turkey</th>\n",
       "      <td>36</td>\n",
       "      <td>0.526</td>\n",
       "    </tr>\n",
       "    <tr>\n",
       "      <th>Singapore</th>\n",
       "      <td>34</td>\n",
       "      <td>0.497</td>\n",
       "    </tr>\n",
       "    <tr>\n",
       "      <th>Hungary</th>\n",
       "      <td>34</td>\n",
       "      <td>0.497</td>\n",
       "    </tr>\n",
       "    <tr>\n",
       "      <th>New Zealand</th>\n",
       "      <td>33</td>\n",
       "      <td>0.483</td>\n",
       "    </tr>\n",
       "    <tr>\n",
       "      <th>Croatia</th>\n",
       "      <td>32</td>\n",
       "      <td>0.468</td>\n",
       "    </tr>\n",
       "    <tr>\n",
       "      <th>Argentina</th>\n",
       "      <td>32</td>\n",
       "      <td>0.468</td>\n",
       "    </tr>\n",
       "    <tr>\n",
       "      <th>Indonesia</th>\n",
       "      <td>31</td>\n",
       "      <td>0.453</td>\n",
       "    </tr>\n",
       "    <tr>\n",
       "      <th>Pakistan</th>\n",
       "      <td>31</td>\n",
       "      <td>0.453</td>\n",
       "    </tr>\n",
       "    <tr>\n",
       "      <th>...</th>\n",
       "      <td>...</td>\n",
       "      <td>...</td>\n",
       "    </tr>\n",
       "    <tr>\n",
       "      <th>Yemen</th>\n",
       "      <td>1</td>\n",
       "      <td>0.015</td>\n",
       "    </tr>\n",
       "    <tr>\n",
       "      <th>Channel Islands</th>\n",
       "      <td>1</td>\n",
       "      <td>0.015</td>\n",
       "    </tr>\n",
       "    <tr>\n",
       "      <th>Nambia</th>\n",
       "      <td>1</td>\n",
       "      <td>0.015</td>\n",
       "    </tr>\n",
       "    <tr>\n",
       "      <th>Trinidad &amp; Tobago</th>\n",
       "      <td>1</td>\n",
       "      <td>0.015</td>\n",
       "    </tr>\n",
       "    <tr>\n",
       "      <th>Cuba</th>\n",
       "      <td>1</td>\n",
       "      <td>0.015</td>\n",
       "    </tr>\n",
       "    <tr>\n",
       "      <th>Panama</th>\n",
       "      <td>1</td>\n",
       "      <td>0.015</td>\n",
       "    </tr>\n",
       "    <tr>\n",
       "      <th>Cameroon</th>\n",
       "      <td>1</td>\n",
       "      <td>0.015</td>\n",
       "    </tr>\n",
       "    <tr>\n",
       "      <th>Qatar</th>\n",
       "      <td>1</td>\n",
       "      <td>0.015</td>\n",
       "    </tr>\n",
       "    <tr>\n",
       "      <th>Angola</th>\n",
       "      <td>1</td>\n",
       "      <td>0.015</td>\n",
       "    </tr>\n",
       "    <tr>\n",
       "      <th>Jordan</th>\n",
       "      <td>1</td>\n",
       "      <td>0.015</td>\n",
       "    </tr>\n",
       "    <tr>\n",
       "      <th>Cayman Islands</th>\n",
       "      <td>1</td>\n",
       "      <td>0.015</td>\n",
       "    </tr>\n",
       "    <tr>\n",
       "      <th>Anguilla</th>\n",
       "      <td>1</td>\n",
       "      <td>0.015</td>\n",
       "    </tr>\n",
       "    <tr>\n",
       "      <th>Myanmar</th>\n",
       "      <td>1</td>\n",
       "      <td>0.015</td>\n",
       "    </tr>\n",
       "    <tr>\n",
       "      <th>Kyrgyzstan</th>\n",
       "      <td>1</td>\n",
       "      <td>0.015</td>\n",
       "    </tr>\n",
       "    <tr>\n",
       "      <th>Botswana</th>\n",
       "      <td>1</td>\n",
       "      <td>0.015</td>\n",
       "    </tr>\n",
       "    <tr>\n",
       "      <th>Sudan</th>\n",
       "      <td>1</td>\n",
       "      <td>0.015</td>\n",
       "    </tr>\n",
       "    <tr>\n",
       "      <th>Guadeloupe</th>\n",
       "      <td>1</td>\n",
       "      <td>0.015</td>\n",
       "    </tr>\n",
       "    <tr>\n",
       "      <th>Vanuatu</th>\n",
       "      <td>1</td>\n",
       "      <td>0.015</td>\n",
       "    </tr>\n",
       "    <tr>\n",
       "      <th>Gambia</th>\n",
       "      <td>1</td>\n",
       "      <td>0.015</td>\n",
       "    </tr>\n",
       "    <tr>\n",
       "      <th>Liberia</th>\n",
       "      <td>1</td>\n",
       "      <td>0.015</td>\n",
       "    </tr>\n",
       "    <tr>\n",
       "      <th>Aruba</th>\n",
       "      <td>1</td>\n",
       "      <td>0.015</td>\n",
       "    </tr>\n",
       "    <tr>\n",
       "      <th>Papua New Guinea</th>\n",
       "      <td>1</td>\n",
       "      <td>0.015</td>\n",
       "    </tr>\n",
       "    <tr>\n",
       "      <th>Bolivia</th>\n",
       "      <td>1</td>\n",
       "      <td>0.015</td>\n",
       "    </tr>\n",
       "    <tr>\n",
       "      <th>Gibraltar</th>\n",
       "      <td>1</td>\n",
       "      <td>0.015</td>\n",
       "    </tr>\n",
       "    <tr>\n",
       "      <th>Guatemala</th>\n",
       "      <td>1</td>\n",
       "      <td>0.015</td>\n",
       "    </tr>\n",
       "    <tr>\n",
       "      <th>Rwanda</th>\n",
       "      <td>1</td>\n",
       "      <td>0.015</td>\n",
       "    </tr>\n",
       "    <tr>\n",
       "      <th>Turkmenistan</th>\n",
       "      <td>1</td>\n",
       "      <td>0.015</td>\n",
       "    </tr>\n",
       "    <tr>\n",
       "      <th>Mozambique</th>\n",
       "      <td>1</td>\n",
       "      <td>0.015</td>\n",
       "    </tr>\n",
       "    <tr>\n",
       "      <th>Samoa</th>\n",
       "      <td>1</td>\n",
       "      <td>0.015</td>\n",
       "    </tr>\n",
       "    <tr>\n",
       "      <th>Somalia</th>\n",
       "      <td>1</td>\n",
       "      <td>0.015</td>\n",
       "    </tr>\n",
       "  </tbody>\n",
       "</table>\n",
       "<p>137 rows × 2 columns</p>\n",
       "</div>"
      ],
      "text/plain": [
       "                               Absolute frequency  Relative Freq(%)\n",
       "United States of America                     3125            45.700\n",
       "India                                         528             7.722\n",
       "United Kingdom                                315             4.607\n",
       "Canada                                        260             3.802\n",
       "Poland                                        131             1.916\n",
       "Brazil                                        129             1.887\n",
       "Germany                                       125             1.828\n",
       "Australia                                     112             1.638\n",
       "Russia                                        102             1.492\n",
       "Ukraine                                        89             1.302\n",
       "Nigeria                                        84             1.228\n",
       "Spain                                          77             1.126\n",
       "France                                         75             1.097\n",
       "Romania                                        71             1.038\n",
       "Netherlands (Holland, Europe)                  65             0.951\n",
       "Italy                                          62             0.907\n",
       "Philippines                                    52             0.760\n",
       "Serbia                                         52             0.760\n",
       "Greece                                         46             0.673\n",
       "Ireland                                        43             0.629\n",
       "South Africa                                   39             0.570\n",
       "Mexico                                         37             0.541\n",
       "Turkey                                         36             0.526\n",
       "Singapore                                      34             0.497\n",
       "Hungary                                        34             0.497\n",
       "New Zealand                                    33             0.483\n",
       "Croatia                                        32             0.468\n",
       "Argentina                                      32             0.468\n",
       "Indonesia                                      31             0.453\n",
       "Pakistan                                       31             0.453\n",
       "...                                           ...               ...\n",
       "Yemen                                           1             0.015\n",
       "Channel Islands                                 1             0.015\n",
       "Nambia                                          1             0.015\n",
       "Trinidad & Tobago                               1             0.015\n",
       "Cuba                                            1             0.015\n",
       "Panama                                          1             0.015\n",
       "Cameroon                                        1             0.015\n",
       "Qatar                                           1             0.015\n",
       "Angola                                          1             0.015\n",
       "Jordan                                          1             0.015\n",
       "Cayman Islands                                  1             0.015\n",
       "Anguilla                                        1             0.015\n",
       "Myanmar                                         1             0.015\n",
       "Kyrgyzstan                                      1             0.015\n",
       "Botswana                                        1             0.015\n",
       "Sudan                                           1             0.015\n",
       "Guadeloupe                                      1             0.015\n",
       "Vanuatu                                         1             0.015\n",
       "Gambia                                          1             0.015\n",
       "Liberia                                         1             0.015\n",
       "Aruba                                           1             0.015\n",
       "Papua New Guinea                                1             0.015\n",
       "Bolivia                                         1             0.015\n",
       "Gibraltar                                       1             0.015\n",
       "Guatemala                                       1             0.015\n",
       "Rwanda                                          1             0.015\n",
       "Turkmenistan                                    1             0.015\n",
       "Mozambique                                      1             0.015\n",
       "Samoa                                           1             0.015\n",
       "Somalia                                         1             0.015\n",
       "\n",
       "[137 rows x 2 columns]"
      ]
     },
     "execution_count": 6,
     "metadata": {},
     "output_type": "execute_result"
    }
   ],
   "source": [
    "# drop all rows where particpants didnt answer what role they are interested in\n",
    "nonNA_coder = new_coder[new_coder['JobRoleInterest'].notnull()].copy()\n",
    "\n",
    "abs_freq = nonNA_coder['CountryLive'].value_counts()\n",
    "rel_freq = round(nonNA_coder['CountryLive'].value_counts(normalize=True)*100,3)\n",
    "\n",
    "# Display the frequency tables in a more readable format\n",
    "pd.DataFrame(data = {'Absolute frequency': abs_freq, \n",
    "                     'Relative Freq(%)': rel_freq}\n",
    "            )"
   ]
  },
  {
   "cell_type": "markdown",
   "metadata": {},
   "source": [
    "First, we made sure that we were working with a representative sample by dropping all the rows where particpants did not answer what role they were interested in. We then generated a frequency table for the `CountryLive` variable - both absolute and relative frequencies.\n",
    "\n",
    "Looking at the results, we see that the US dominates in terms of where each particpant lives in at a significant 45.7%. The next country with the highest relative frequency is India, at a much lower percentage of 7.7%. So based on the table, the US and India are the two markets I'd choose for advertisement. "
   ]
  },
  {
   "cell_type": "markdown",
   "metadata": {},
   "source": [
    "## Spending Money for Learning"
   ]
  },
  {
   "cell_type": "markdown",
   "metadata": {},
   "source": [
    "We found useful information about the location of new coders, and what are the countries where new coders live, but we need to go more in depth with our analysis before taking a decision. We can continue by figuring how how much money new coders are actually willing to spend on learning. Advertising within markets where most people are only willing to learn for free is extremely unlikely to be profitable for us. \n",
    "\n",
    "The `MoneyForLearning` column describes in American dollars the amount of money spent by participants from the moment they started coding until the moment they completed the survey. We're interested in finding out how much money each student spends per month. \n",
    "\n",
    "We'll narrow down our analysis to the top four markets: US, India, UK, and Canada because:\n",
    "\n",
    "- They have the highest absolute frequencies in our sample\n",
    "- Our courses are written in English, and English is an official language in these four countries"
   ]
  },
  {
   "cell_type": "code",
   "execution_count": 7,
   "metadata": {
    "collapsed": false
   },
   "outputs": [
    {
     "data": {
      "text/plain": [
       "675"
      ]
     },
     "execution_count": 7,
     "metadata": {},
     "output_type": "execute_result"
    }
   ],
   "source": [
    "nonNA_coder['MonthsProgramming'].replace(0, 1, inplace = True)   # replace value of 0 with 1\n",
    "\n",
    "nonNA_coder['per_month'] = nonNA_coder['MoneyForLearning'] / nonNA_coder['MonthsProgramming']\n",
    "nonNA_coder['per_month'].isnull().sum()     # counting NAs"
   ]
  },
  {
   "cell_type": "code",
   "execution_count": 8,
   "metadata": {
    "collapsed": false
   },
   "outputs": [
    {
     "data": {
      "text/plain": [
       "0"
      ]
     },
     "execution_count": 8,
     "metadata": {},
     "output_type": "execute_result"
    }
   ],
   "source": [
    "# drop NAs from the new per_month column\n",
    "\n",
    "nonNA_coder = nonNA_coder[nonNA_coder['per_month'].notnull()]\n",
    "nonNA_coder['per_month'].isnull().sum()     # counting NAs, make sure its 0"
   ]
  },
  {
   "cell_type": "code",
   "execution_count": 9,
   "metadata": {
    "collapsed": false
   },
   "outputs": [
    {
     "name": "stdout",
     "output_type": "stream",
     "text": [
      "105\n",
      "0\n"
     ]
    }
   ],
   "source": [
    "# drop NAs from CountryLive column\n",
    "\n",
    "print(nonNA_coder['CountryLive'].isnull().sum())   # counting NAs\n",
    "nonNA_coder = nonNA_coder[nonNA_coder['CountryLive'].notnull()]\n",
    "print(nonNA_coder['CountryLive'].isnull().sum())     # counting NAs, make sure its 0"
   ]
  },
  {
   "cell_type": "code",
   "execution_count": 10,
   "metadata": {
    "collapsed": false
   },
   "outputs": [
    {
     "data": {
      "text/plain": [
       "CountryLive\n",
       "United States of America    227.997996\n",
       "India                       135.100982\n",
       "Canada                      113.510961\n",
       "United Kingdom               45.534443\n",
       "Name: per_month, dtype: float64"
      ]
     },
     "execution_count": 10,
     "metadata": {},
     "output_type": "execute_result"
    }
   ],
   "source": [
    "country_mean = nonNA_coder.groupby('CountryLive').mean()\n",
    "country_mean['per_month'][['United States of America', 'India', 'United Kingdom', 'Canada']].sort_values(ascending=False)"
   ]
  },
  {
   "cell_type": "markdown",
   "metadata": {},
   "source": [
    "We started by creating a new column, `per_month`, that describes the amount of money a student has spent per month. Some students answered that they had been learning to code for 0 months (it might be that they had just started when they completed the survey), so we replaced all values of 0 with 1 to avoid diving by 0.  \n",
    "\n",
    "We then counted the amount of null values in the new column and cleaned it so that we kept the rows with values (did so for `CountryLive` as well). We then grouped the remaining data by the `CountryLive` column and found the mean amount a student spends on average each month in the four biggest markets. \n",
    "\n",
    "We found that the US spent the most at approximately \\$228 per month, followed by India, Canada and then the UK at approximately \\$135, \\$114, and \\$46, respectively. \n",
    "\n",
    "The results for the UK and Canada are surprisingly low relative to the values we see for India. If we considered a few socio-economical metrics, like GDP per capita, we would expect people in the UK and Canada to spend more on learning than people in India.\n",
    "\n",
    "It might be that we do not have enough representative data for the UK, Canada and India, or that we have some outliers skewing the data for those countries. It may even be that the results are correct. Let's take a look"
   ]
  },
  {
   "cell_type": "markdown",
   "metadata": {},
   "source": [
    "## Dealing with Extreme Outliers"
   ]
  },
  {
   "cell_type": "code",
   "execution_count": 11,
   "metadata": {
    "collapsed": false
   },
   "outputs": [
    {
     "name": "stderr",
     "output_type": "stream",
     "text": [
      "/dataquest/system/env/python3/lib/python3.4/site-packages/seaborn/categorical.py:454: FutureWarning: remove_na is deprecated and is a private function. Do not use.\n",
      "  box_data = remove_na(group_data)\n"
     ]
    },
    {
     "data": {
      "image/png": "[encoded data removed]",
      "text/plain": [
       "<matplotlib.figure.Figure at 0x7ff289581978>"
      ]
     },
     "metadata": {},
     "output_type": "display_data"
    }
   ],
   "source": [
    "# filter dataset so only contains countries of interest\n",
    "top4markets = nonNA_coder[nonNA_coder['CountryLive'].str.contains(\n",
    "    'United States of America|India|United Kingdom|Canada')]\n",
    "\n",
    "# create boxplots\n",
    "\n",
    "sns.boxplot(x='CountryLive', y='per_month', data= top4markets)\n",
    "plt.title('Money Spent Per Month \\n By Country')\n",
    "plt.ylabel('Money per month')\n",
    "plt.xlabel('Country')\n",
    "plt.xticks(range(4), ['US', 'UK', 'India', 'Canada']) # avoids tick labels overlap\n",
    "plt.show()"
   ]
  },
  {
   "cell_type": "markdown",
   "metadata": {},
   "source": [
    "We generated four box plots to visualize the distribution of the variable that describes how much money each participant had spent per month. We can see spot the obvious outliers in the distribution of the US, and somewhat for India. Its hard to tell for the distributions of the UK and Canada.\n",
    "\n",
    "We'll eliminate the extreme outliers by removing any particpant who spends more than \\$10,000 per month."
   ]
  },
  {
   "cell_type": "code",
   "execution_count": 12,
   "metadata": {
    "collapsed": true
   },
   "outputs": [],
   "source": [
    "# filter out participants who spend more than 10k per month\n",
    "nonNA_coder = nonNA_coder[nonNA_coder['per_month'] < 10000]"
   ]
  },
  {
   "cell_type": "code",
   "execution_count": 13,
   "metadata": {
    "collapsed": false
   },
   "outputs": [
    {
     "data": {
      "text/plain": [
       "CountryLive\n",
       "United States of America    155.459187\n",
       "India                       113.748387\n",
       "Canada                      113.510961\n",
       "United Kingdom               45.534443\n",
       "Name: per_month, dtype: float64"
      ]
     },
     "execution_count": 13,
     "metadata": {},
     "output_type": "execute_result"
    }
   ],
   "source": [
    "# Recompute mean sum of money spent by students each month\n",
    "\n",
    "country_mean = nonNA_coder.groupby('CountryLive').mean()\n",
    "country_mean['per_month'][['United States of America', 'India', 'United Kingdom', 'Canada']].sort_values(ascending=False)"
   ]
  },
  {
   "cell_type": "code",
   "execution_count": 14,
   "metadata": {
    "collapsed": false
   },
   "outputs": [
    {
     "name": "stderr",
     "output_type": "stream",
     "text": [
      "/dataquest/system/env/python3/lib/python3.4/site-packages/seaborn/categorical.py:454: FutureWarning: remove_na is deprecated and is a private function. Do not use.\n",
      "  box_data = remove_na(group_data)\n"
     ]
    },
    {
     "data": {
      "image/png": "[encoded data removed]",
      "text/plain": [
       "<matplotlib.figure.Figure at 0x7ff289446240>"
      ]
     },
     "metadata": {},
     "output_type": "display_data"
    }
   ],
   "source": [
    "# filter dataset so only contains countries of interest\n",
    "top4markets = nonNA_coder[nonNA_coder['CountryLive'].str.contains(\n",
    "    'United States of America|India|United Kingdom|Canada')]\n",
    "\n",
    "# create boxplots\n",
    "\n",
    "sns.boxplot(x='CountryLive', y='per_month', data= top4markets)\n",
    "plt.title('Money Spent Per Month \\n By Country')\n",
    "plt.ylabel('Money per month')\n",
    "plt.xlabel('Country')\n",
    "plt.ylim(0,10000)\n",
    "plt.xticks(range(4), ['US', 'UK', 'India', 'Canada']) # avoids tick labels overlap\n",
    "plt.show()"
   ]
  },
  {
   "cell_type": "markdown",
   "metadata": {},
   "source": [
    "After eliminating some of the extreme outliers above \\$10,000, we then recomputed the mean values from before, and then found that the distributions still shown signs of outliers. Let's isolate some of those respondents and examine their answers to other questions in the survey to figure out whether these big expenses with learning are justified."
   ]
  },
  {
   "cell_type": "code",
   "execution_count": 15,
   "metadata": {
    "collapsed": false
   },
   "outputs": [
    {
     "data": {
      "text/html": [
       "<div>\n",
       "<style scoped>\n",
       "    .dataframe tbody tr th:only-of-type {\n",
       "        vertical-align: middle;\n",
       "    }\n",
       "\n",
       "    .dataframe tbody tr th {\n",
       "        vertical-align: top;\n",
       "    }\n",
       "\n",
       "    .dataframe thead th {\n",
       "        text-align: right;\n",
       "    }\n",
       "</style>\n",
       "<table border=\"1\" class=\"dataframe\">\n",
       "  <thead>\n",
       "    <tr style=\"text-align: right;\">\n",
       "      <th></th>\n",
       "      <th>Age</th>\n",
       "      <th>AttendedBootcamp</th>\n",
       "      <th>BootcampFinish</th>\n",
       "      <th>BootcampLoanYesNo</th>\n",
       "      <th>BootcampRecommend</th>\n",
       "      <th>ChildrenNumber</th>\n",
       "      <th>CodeEventConferences</th>\n",
       "      <th>CodeEventDjangoGirls</th>\n",
       "      <th>CodeEventFCC</th>\n",
       "      <th>CodeEventGameJam</th>\n",
       "      <th>...</th>\n",
       "      <th>YouTubeFCC</th>\n",
       "      <th>YouTubeFunFunFunction</th>\n",
       "      <th>YouTubeGoogleDev</th>\n",
       "      <th>YouTubeLearnCode</th>\n",
       "      <th>YouTubeLevelUpTuts</th>\n",
       "      <th>YouTubeMIT</th>\n",
       "      <th>YouTubeMozillaHacks</th>\n",
       "      <th>YouTubeSimplilearn</th>\n",
       "      <th>YouTubeTheNewBoston</th>\n",
       "      <th>per_month</th>\n",
       "    </tr>\n",
       "  </thead>\n",
       "  <tbody>\n",
       "    <tr>\n",
       "      <th>count</th>\n",
       "      <td>3866.000000</td>\n",
       "      <td>3889.000000</td>\n",
       "      <td>255.000000</td>\n",
       "      <td>257.000000</td>\n",
       "      <td>257.000000</td>\n",
       "      <td>611.000000</td>\n",
       "      <td>217.0</td>\n",
       "      <td>25.0</td>\n",
       "      <td>376.0</td>\n",
       "      <td>46.0</td>\n",
       "      <td>...</td>\n",
       "      <td>1463.0</td>\n",
       "      <td>244.0</td>\n",
       "      <td>631.0</td>\n",
       "      <td>561.0</td>\n",
       "      <td>264.0</td>\n",
       "      <td>808.0</td>\n",
       "      <td>85.0</td>\n",
       "      <td>43.0</td>\n",
       "      <td>646.0</td>\n",
       "      <td>3906.000000</td>\n",
       "    </tr>\n",
       "    <tr>\n",
       "      <th>mean</th>\n",
       "      <td>28.223487</td>\n",
       "      <td>0.066855</td>\n",
       "      <td>0.529412</td>\n",
       "      <td>0.334630</td>\n",
       "      <td>0.770428</td>\n",
       "      <td>1.906710</td>\n",
       "      <td>1.0</td>\n",
       "      <td>1.0</td>\n",
       "      <td>1.0</td>\n",
       "      <td>1.0</td>\n",
       "      <td>...</td>\n",
       "      <td>1.0</td>\n",
       "      <td>1.0</td>\n",
       "      <td>1.0</td>\n",
       "      <td>1.0</td>\n",
       "      <td>1.0</td>\n",
       "      <td>1.0</td>\n",
       "      <td>1.0</td>\n",
       "      <td>1.0</td>\n",
       "      <td>1.0</td>\n",
       "      <td>140.096420</td>\n",
       "    </tr>\n",
       "    <tr>\n",
       "      <th>std</th>\n",
       "      <td>8.989643</td>\n",
       "      <td>0.249803</td>\n",
       "      <td>0.500116</td>\n",
       "      <td>0.472782</td>\n",
       "      <td>0.421378</td>\n",
       "      <td>0.974833</td>\n",
       "      <td>0.0</td>\n",
       "      <td>0.0</td>\n",
       "      <td>0.0</td>\n",
       "      <td>0.0</td>\n",
       "      <td>...</td>\n",
       "      <td>0.0</td>\n",
       "      <td>0.0</td>\n",
       "      <td>0.0</td>\n",
       "      <td>0.0</td>\n",
       "      <td>0.0</td>\n",
       "      <td>0.0</td>\n",
       "      <td>0.0</td>\n",
       "      <td>0.0</td>\n",
       "      <td>0.0</td>\n",
       "      <td>555.236533</td>\n",
       "    </tr>\n",
       "    <tr>\n",
       "      <th>min</th>\n",
       "      <td>0.000000</td>\n",
       "      <td>0.000000</td>\n",
       "      <td>0.000000</td>\n",
       "      <td>0.000000</td>\n",
       "      <td>0.000000</td>\n",
       "      <td>1.000000</td>\n",
       "      <td>1.0</td>\n",
       "      <td>1.0</td>\n",
       "      <td>1.0</td>\n",
       "      <td>1.0</td>\n",
       "      <td>...</td>\n",
       "      <td>1.0</td>\n",
       "      <td>1.0</td>\n",
       "      <td>1.0</td>\n",
       "      <td>1.0</td>\n",
       "      <td>1.0</td>\n",
       "      <td>1.0</td>\n",
       "      <td>1.0</td>\n",
       "      <td>1.0</td>\n",
       "      <td>1.0</td>\n",
       "      <td>0.000000</td>\n",
       "    </tr>\n",
       "    <tr>\n",
       "      <th>25%</th>\n",
       "      <td>22.000000</td>\n",
       "      <td>0.000000</td>\n",
       "      <td>0.000000</td>\n",
       "      <td>0.000000</td>\n",
       "      <td>1.000000</td>\n",
       "      <td>1.000000</td>\n",
       "      <td>1.0</td>\n",
       "      <td>1.0</td>\n",
       "      <td>1.0</td>\n",
       "      <td>1.0</td>\n",
       "      <td>...</td>\n",
       "      <td>1.0</td>\n",
       "      <td>1.0</td>\n",
       "      <td>1.0</td>\n",
       "      <td>1.0</td>\n",
       "      <td>1.0</td>\n",
       "      <td>1.0</td>\n",
       "      <td>1.0</td>\n",
       "      <td>1.0</td>\n",
       "      <td>1.0</td>\n",
       "      <td>0.000000</td>\n",
       "    </tr>\n",
       "    <tr>\n",
       "      <th>50%</th>\n",
       "      <td>27.000000</td>\n",
       "      <td>0.000000</td>\n",
       "      <td>1.000000</td>\n",
       "      <td>0.000000</td>\n",
       "      <td>1.000000</td>\n",
       "      <td>2.000000</td>\n",
       "      <td>1.0</td>\n",
       "      <td>1.0</td>\n",
       "      <td>1.0</td>\n",
       "      <td>1.0</td>\n",
       "      <td>...</td>\n",
       "      <td>1.0</td>\n",
       "      <td>1.0</td>\n",
       "      <td>1.0</td>\n",
       "      <td>1.0</td>\n",
       "      <td>1.0</td>\n",
       "      <td>1.0</td>\n",
       "      <td>1.0</td>\n",
       "      <td>1.0</td>\n",
       "      <td>1.0</td>\n",
       "      <td>1.846591</td>\n",
       "    </tr>\n",
       "    <tr>\n",
       "      <th>75%</th>\n",
       "      <td>33.000000</td>\n",
       "      <td>0.000000</td>\n",
       "      <td>1.000000</td>\n",
       "      <td>1.000000</td>\n",
       "      <td>1.000000</td>\n",
       "      <td>2.000000</td>\n",
       "      <td>1.0</td>\n",
       "      <td>1.0</td>\n",
       "      <td>1.0</td>\n",
       "      <td>1.0</td>\n",
       "      <td>...</td>\n",
       "      <td>1.0</td>\n",
       "      <td>1.0</td>\n",
       "      <td>1.0</td>\n",
       "      <td>1.0</td>\n",
       "      <td>1.0</td>\n",
       "      <td>1.0</td>\n",
       "      <td>1.0</td>\n",
       "      <td>1.0</td>\n",
       "      <td>1.0</td>\n",
       "      <td>37.500000</td>\n",
       "    </tr>\n",
       "    <tr>\n",
       "      <th>max</th>\n",
       "      <td>71.000000</td>\n",
       "      <td>1.000000</td>\n",
       "      <td>1.000000</td>\n",
       "      <td>1.000000</td>\n",
       "      <td>1.000000</td>\n",
       "      <td>7.000000</td>\n",
       "      <td>1.0</td>\n",
       "      <td>1.0</td>\n",
       "      <td>1.0</td>\n",
       "      <td>1.0</td>\n",
       "      <td>...</td>\n",
       "      <td>1.0</td>\n",
       "      <td>1.0</td>\n",
       "      <td>1.0</td>\n",
       "      <td>1.0</td>\n",
       "      <td>1.0</td>\n",
       "      <td>1.0</td>\n",
       "      <td>1.0</td>\n",
       "      <td>1.0</td>\n",
       "      <td>1.0</td>\n",
       "      <td>9000.000000</td>\n",
       "    </tr>\n",
       "  </tbody>\n",
       "</table>\n",
       "<p>8 rows × 106 columns</p>\n",
       "</div>"
      ],
      "text/plain": [
       "               Age  AttendedBootcamp  BootcampFinish  BootcampLoanYesNo  \\\n",
       "count  3866.000000       3889.000000      255.000000         257.000000   \n",
       "mean     28.223487          0.066855        0.529412           0.334630   \n",
       "std       8.989643          0.249803        0.500116           0.472782   \n",
       "min       0.000000          0.000000        0.000000           0.000000   \n",
       "25%      22.000000          0.000000        0.000000           0.000000   \n",
       "50%      27.000000          0.000000        1.000000           0.000000   \n",
       "75%      33.000000          0.000000        1.000000           1.000000   \n",
       "max      71.000000          1.000000        1.000000           1.000000   \n",
       "\n",
       "       BootcampRecommend  ChildrenNumber  CodeEventConferences  \\\n",
       "count         257.000000      611.000000                 217.0   \n",
       "mean            0.770428        1.906710                   1.0   \n",
       "std             0.421378        0.974833                   0.0   \n",
       "min             0.000000        1.000000                   1.0   \n",
       "25%             1.000000        1.000000                   1.0   \n",
       "50%             1.000000        2.000000                   1.0   \n",
       "75%             1.000000        2.000000                   1.0   \n",
       "max             1.000000        7.000000                   1.0   \n",
       "\n",
       "       CodeEventDjangoGirls  CodeEventFCC  CodeEventGameJam     ...       \\\n",
       "count                  25.0         376.0              46.0     ...        \n",
       "mean                    1.0           1.0               1.0     ...        \n",
       "std                     0.0           0.0               0.0     ...        \n",
       "min                     1.0           1.0               1.0     ...        \n",
       "25%                     1.0           1.0               1.0     ...        \n",
       "50%                     1.0           1.0               1.0     ...        \n",
       "75%                     1.0           1.0               1.0     ...        \n",
       "max                     1.0           1.0               1.0     ...        \n",
       "\n",
       "       YouTubeFCC  YouTubeFunFunFunction  YouTubeGoogleDev  YouTubeLearnCode  \\\n",
       "count      1463.0                  244.0             631.0             561.0   \n",
       "mean          1.0                    1.0               1.0               1.0   \n",
       "std           0.0                    0.0               0.0               0.0   \n",
       "min           1.0                    1.0               1.0               1.0   \n",
       "25%           1.0                    1.0               1.0               1.0   \n",
       "50%           1.0                    1.0               1.0               1.0   \n",
       "75%           1.0                    1.0               1.0               1.0   \n",
       "max           1.0                    1.0               1.0               1.0   \n",
       "\n",
       "       YouTubeLevelUpTuts  YouTubeMIT  YouTubeMozillaHacks  \\\n",
       "count               264.0       808.0                 85.0   \n",
       "mean                  1.0         1.0                  1.0   \n",
       "std                   0.0         0.0                  0.0   \n",
       "min                   1.0         1.0                  1.0   \n",
       "25%                   1.0         1.0                  1.0   \n",
       "50%                   1.0         1.0                  1.0   \n",
       "75%                   1.0         1.0                  1.0   \n",
       "max                   1.0         1.0                  1.0   \n",
       "\n",
       "       YouTubeSimplilearn  YouTubeTheNewBoston    per_month  \n",
       "count                43.0                646.0  3906.000000  \n",
       "mean                  1.0                  1.0   140.096420  \n",
       "std                   0.0                  0.0   555.236533  \n",
       "min                   1.0                  1.0     0.000000  \n",
       "25%                   1.0                  1.0     0.000000  \n",
       "50%                   1.0                  1.0     1.846591  \n",
       "75%                   1.0                  1.0    37.500000  \n",
       "max                   1.0                  1.0  9000.000000  \n",
       "\n",
       "[8 rows x 106 columns]"
      ]
     },
     "execution_count": 15,
     "metadata": {},
     "output_type": "execute_result"
    }
   ],
   "source": [
    "top4markets.describe()"
   ]
  },
  {
   "cell_type": "code",
   "execution_count": 16,
   "metadata": {
    "collapsed": false
   },
   "outputs": [
    {
     "data": {
      "text/plain": [
       "0.0    3629\n",
       "1.0     260\n",
       "Name: AttendedBootcamp, dtype: int64"
      ]
     },
     "execution_count": 16,
     "metadata": {},
     "output_type": "execute_result"
    }
   ],
   "source": [
    "top4markets['AttendedBootcamp'].value_counts()"
   ]
  },
  {
   "cell_type": "markdown",
   "metadata": {},
   "source": [
    "We see that there is an `AttendedBootcamp` column that is binary: `0` indicates the individual did not attend boot camp & `1` indicates that they did. Let's look a bit further. "
   ]
  },
  {
   "cell_type": "code",
   "execution_count": 17,
   "metadata": {
    "collapsed": false
   },
   "outputs": [
    {
     "data": {
      "text/plain": [
       "count     260.000000\n",
       "mean     1031.457503\n",
       "std      1459.192236\n",
       "min         0.000000\n",
       "25%        82.500000\n",
       "50%       500.000000\n",
       "75%      1297.619048\n",
       "max      9000.000000\n",
       "Name: per_month, dtype: float64"
      ]
     },
     "execution_count": 17,
     "metadata": {},
     "output_type": "execute_result"
    }
   ],
   "source": [
    "attended = top4markets[top4markets['AttendedBootcamp'] == 1]\n",
    "attended['per_month'].describe()"
   ]
  },
  {
   "cell_type": "code",
   "execution_count": 18,
   "metadata": {
    "collapsed": false
   },
   "outputs": [
    {
     "data": {
      "text/plain": [
       "count    3629.000000\n",
       "mean       76.835568\n",
       "std       344.673638\n",
       "min         0.000000\n",
       "25%         0.000000\n",
       "50%         0.000000\n",
       "75%        25.000000\n",
       "max      5000.000000\n",
       "Name: per_month, dtype: float64"
      ]
     },
     "execution_count": 18,
     "metadata": {},
     "output_type": "execute_result"
    }
   ],
   "source": [
    "didnt_attend = top4markets[top4markets['AttendedBootcamp'] == 0]\n",
    "didnt_attend['per_month'].describe()"
   ]
  },
  {
   "cell_type": "markdown",
   "metadata": {},
   "source": [
    "We isolated those who attended a bootcamp and those who didn't. For those that attended, we found that the average amount spent per month is approximately \\$1,031 versus the approximate \\$77 we found for those that didn't attend. This large discrepency may explain the outliers as the average amount spent by those who attended a bootcamp skews our overall mean significantly. Let's remove the bootcamp-goers from our dataset and see how our results will reflect that change. "
   ]
  },
  {
   "cell_type": "code",
   "execution_count": 19,
   "metadata": {
    "collapsed": false
   },
   "outputs": [
    {
     "name": "stderr",
     "output_type": "stream",
     "text": [
      "/dataquest/system/env/python3/lib/python3.4/site-packages/seaborn/categorical.py:454: FutureWarning: remove_na is deprecated and is a private function. Do not use.\n",
      "  box_data = remove_na(group_data)\n"
     ]
    },
    {
     "data": {
      "image/png": "[encoded data removed]",
      "text/plain": [
       "<matplotlib.figure.Figure at 0x7ff289361fd0>"
      ]
     },
     "metadata": {},
     "output_type": "display_data"
    }
   ],
   "source": [
    "# create boxplots\n",
    "\n",
    "sns.boxplot(x='CountryLive', y='per_month', data= didnt_attend)\n",
    "plt.title('Money Spent Per Month \\n By Country')\n",
    "plt.ylabel('Money per month')\n",
    "plt.xlabel('Country')\n",
    "plt.ylim(0,10000)\n",
    "plt.xticks(range(4), ['US', 'UK', 'India', 'Canada']) # avoids tick labels overlap\n",
    "plt.show()"
   ]
  },
  {
   "cell_type": "markdown",
   "metadata": {},
   "source": [
    "Removing those who have attended a bootcamp has helped, but we still notice some outliers, specifically in India. We'll eliminate the outliers by filtering out the partipants that spend over \\$2,000"
   ]
  },
  {
   "cell_type": "code",
   "execution_count": null,
   "metadata": {
    "collapsed": false
   },
   "outputs": [
    {
     "data": {
      "text/plain": [
       "count    3622.000000\n",
       "mean       69.667663\n",
       "std       298.841887\n",
       "min         0.000000\n",
       "25%         0.000000\n",
       "50%         0.000000\n",
       "75%        25.000000\n",
       "max      5000.000000\n",
       "Name: per_month, dtype: float64"
      ]
     },
     "execution_count": 20,
     "metadata": {},
     "output_type": "execute_result"
    }
   ],
   "source": [
    "# Examine India data points at 2000 or above\n",
    "india_outliers = didnt_attend[(didnt_attend['CountryLive'] == 'India') & (didnt_attend['per_month'] >= 2000)]\n",
    "\n",
    "# Remove the extreme outliers for Canada\n",
    "no_india_outliers = didnt_attend.drop(india_outliers.index)\n",
    "\n",
    "no_india_outliers['per_month'].describe()"
   ]
  },
  {
   "cell_type": "code",
   "execution_count": null,
   "metadata": {
    "collapsed": false
   },
   "outputs": [
    {
     "name": "stderr",
     "output_type": "stream",
     "text": [
      "/dataquest/system/env/python3/lib/python3.4/site-packages/seaborn/categorical.py:454: FutureWarning: remove_na is deprecated and is a private function. Do not use.\n",
      "  box_data = remove_na(group_data)\n"
     ]
    },
    {
     "data": {
      "image/png": "[encoded data removed]",
      "text/plain": [
       "<matplotlib.figure.Figure at 0x7ff2893a35f8>"
      ]
     },
     "metadata": {},
     "output_type": "display_data"
    }
   ],
   "source": [
    "# create boxplots\n",
    "\n",
    "sns.boxplot(x='CountryLive', y='per_month', data= no_india_outliers)\n",
    "plt.title('Money Spent Per Month \\n By Country')\n",
    "plt.ylabel('Money per month')\n",
    "plt.xlabel('Country')\n",
    "plt.xticks(range(4), ['US', 'UK', 'India', 'Canada']) # avoids tick labels overlap\n",
    "plt.show()"
   ]
  },
  {
   "cell_type": "markdown",
   "metadata": {},
   "source": [
    "## Choosing the Two Best Markets"
   ]
  },
  {
   "cell_type": "markdown",
   "metadata": {},
   "source": [
    "After eliminating the extreme outliers, we found the following mean values:"
   ]
  },
  {
   "cell_type": "code",
   "execution_count": null,
   "metadata": {
    "collapsed": false
   },
   "outputs": [
    {
     "data": {
      "text/plain": [
       "CountryLive\n",
       "United States of America    76.350634\n",
       "Canada                      64.127841\n",
       "India                       53.923528\n",
       "United Kingdom              34.468329\n",
       "Name: per_month, dtype: float64"
      ]
     },
     "execution_count": 22,
     "metadata": {},
     "output_type": "execute_result"
    }
   ],
   "source": [
    "country_mean = no_india_outliers.groupby('CountryLive').mean()\n",
    "country_mean['per_month'][['United States of America', 'India', 'United Kingdom', 'Canada']].sort_values(ascending=False)"
   ]
  },
  {
   "cell_type": "code",
   "execution_count": null,
   "metadata": {
    "collapsed": false
   },
   "outputs": [
    {
     "data": {
      "text/plain": [
       "United States of America    73.826615\n",
       "India                       12.313639\n",
       "United Kingdom               7.509663\n",
       "Canada                       6.350083\n",
       "Name: CountryLive, dtype: float64"
      ]
     },
     "execution_count": 23,
     "metadata": {},
     "output_type": "execute_result"
    }
   ],
   "source": [
    "# Frequency table for the 'CountryLive' column\n",
    "no_india_outliers['CountryLive'].value_counts(normalize = True) * 100"
   ]
  },
  {
   "cell_type": "markdown",
   "metadata": {},
   "source": [
    "Considering the results we have found so far, one country we should definitely advertise in is the `US`. The second country comes down to either `Canada` or `India`. Based on the country means, we would go with `Canada` as we found out they spent the second most per month on average. However, when we check the relative frequency table, we find that `India` has the second largest share of the sample in terms of where the respondents are from, whereas `Canada` has the lowest of the four countries."
   ]
  },
  {
   "cell_type": "markdown",
   "metadata": {},
   "source": [
    "## Conclusion"
   ]
  },
  {
   "cell_type": "markdown",
   "metadata": {},
   "source": [
    "The US will definitely be one of the countries to be advertised in as the results are just overwhelmingly pointing at such. As for the second market, it isn't as cut and dry. Some options we have in choosing the other markets to advertise in:\n",
    "\n",
    "- Advertise in more than two countries\n",
    "- Split the advertising budget unequally (70% to advertise in the US, 30% to advertise in the second market or split to advertise in 3)\n",
    "- Advertise only in the US\n",
    "- Assuming we have a marketing team at the company, send them our results and let them use their knowledge to choose the best decision"
   ]
  },
  {
   "cell_type": "markdown",
   "metadata": {},
   "source": [
    "## Next Steps"
   ]
  },
  {
   "cell_type": "markdown",
   "metadata": {},
   "source": [
    "- Find other criteria for choosing the best market\n",
    "- Analyze other datasets:\n",
    "    - [freeCodeCamp's 2016 New Coders Survey](https://github.com/freeCodeCamp/2016-new-coder-survey)\n",
    "    - [Stack Overflow 20018 Developer Survey](https://www.kaggle.com/datasets/stackoverflow/stack-overflow-2018-developer-survey)"
   ]
  }
 ],
 "metadata": {
  "kernelspec": {
   "display_name": "Python 3",
   "language": "python",
   "name": "python3"
  },
  "language_info": {
   "codemirror_mode": {
    "name": "ipython",
    "version": 3
   },
   "file_extension": ".py",
   "mimetype": "text/x-python",
   "name": "python",
   "nbconvert_exporter": "python",
   "pygments_lexer": "ipython3",
   "version": "3.4.3"
  }
 },
 "nbformat": 4,
 "nbformat_minor": 2
}
